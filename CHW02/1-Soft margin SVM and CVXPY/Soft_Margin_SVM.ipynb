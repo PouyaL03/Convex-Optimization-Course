{
 "cells": [
  {
   "cell_type": "markdown",
   "metadata": {},
   "source": [
    "## Imports"
   ]
  },
  {
   "cell_type": "code",
   "execution_count": 34,
   "metadata": {},
   "outputs": [],
   "source": [
    "import numpy as np\n",
    "import matplotlib.pyplot as plt\n",
    "import pandas as pd\n",
    "import sklearn.datasets\n",
    "from cvxpy import *"
   ]
  },
  {
   "cell_type": "markdown",
   "metadata": {},
   "source": [
    "## 1- Primal Formulation for Soft-Margin SVM"
   ]
  },
  {
   "cell_type": "code",
   "execution_count": 15,
   "metadata": {},
   "outputs": [],
   "source": [
    "# Load Data\n",
    "df = pd.read_csv('svm_train.txt', delim_whitespace=True)\n",
    "X = df.drop('y', axis=1).values\n",
    "y = df['y'].values\n",
    "n = X.shape[0]"
   ]
  },
  {
   "cell_type": "code",
   "execution_count": 16,
   "metadata": {},
   "outputs": [],
   "source": [
    "epsilon = Variable(n, nonneg = True)\n",
    "w = Variable(X.shape[1])\n",
    "b = Variable(1)\n",
    "C = 1\n",
    "\n",
    "constraints = []\n",
    "for i in range(n):\n",
    "    constraints += [y[i] * (w[0] * X[i][0] + w[1] * X[i][1] + b) >= 1 - epsilon[i]]\n",
    "objective = Minimize(0.5 * norm(w,2)**2 + C * sum(epsilon))\n",
    "prob = Problem(objective, constraints)\n",
    "result = prob.solve(solver=ECOS)"
   ]
  },
  {
   "cell_type": "code",
   "execution_count": 17,
   "metadata": {},
   "outputs": [
    {
     "name": "stdout",
     "output_type": "stream",
     "text": [
      "optimal w= [-1.00209063  3.64672864]\n",
      "optimal b= -1.8672371699696897\n"
     ]
    }
   ],
   "source": [
    "print('optimal w=', w.value)\n",
    "print('optimal b=', b.value[0])"
   ]
  },
  {
   "cell_type": "markdown",
   "metadata": {},
   "source": [
    "## 2-Dual Formulation of Soft-Margin SVM"
   ]
  },
  {
   "cell_type": "code",
   "execution_count": 18,
   "metadata": {},
   "outputs": [
    {
     "name": "stderr",
     "output_type": "stream",
     "text": [
      "C:\\Users\\Asus\\AppData\\Local\\Packages\\PythonSoftwareFoundation.Python.3.10_qbz5n2kfra8p0\\LocalCache\\local-packages\\Python310\\site-packages\\cvxpy\\expressions\\expression.py:621: UserWarning: \n",
      "This use of ``*`` has resulted in matrix multiplication.\n",
      "Using ``*`` for matrix multiplication has been deprecated since CVXPY 1.1.\n",
      "    Use ``*`` for matrix-scalar and vector-scalar multiplication.\n",
      "    Use ``@`` for matrix-matrix and matrix-vector multiplication.\n",
      "    Use ``multiply`` for elementwise multiplication.\n",
      "This code path has been hit 2 times so far.\n",
      "\n",
      "  warnings.warn(msg, UserWarning)\n"
     ]
    }
   ],
   "source": [
    "alpha = Variable(n, nonneg = True)\n",
    "C = 1\n",
    "P = atoms.affine.wraps.psd_wrap(X @ X.T)\n",
    "Y = diag(y)\n",
    "\n",
    "dual_constraints = [alpha <= C, sum(y * alpha) == 0]\n",
    "\n",
    "dual_objective = Maximize(sum(alpha) - 0.5 * quad_form(alpha @ Y, P) / C)\n",
    "\n",
    "dual_prob = Problem(dual_objective, dual_constraints)\n",
    "dual_result = dual_prob.solve()\n",
    "# dual_constraints = "
   ]
  },
  {
   "cell_type": "code",
   "execution_count": 19,
   "metadata": {},
   "outputs": [
    {
     "name": "stdout",
     "output_type": "stream",
     "text": [
      "746.2681355070266\n"
     ]
    }
   ],
   "source": [
    "# new_alpha = [i if i > 10**-10 else 0 for i in alpha.value]\n",
    "w = 0\n",
    "for i in range(n):\n",
    "    w += alpha.value[i] * y[i] * X[i]\n",
    "print(dual_result)"
   ]
  },
  {
   "cell_type": "code",
   "execution_count": 20,
   "metadata": {},
   "outputs": [
    {
     "name": "stdout",
     "output_type": "stream",
     "text": [
      "optimal w= [-1.00209063  3.64672864]\n"
     ]
    }
   ],
   "source": [
    "print('optimal w=', w)"
   ]
  },
  {
   "cell_type": "code",
   "execution_count": 32,
   "metadata": {},
   "outputs": [
    {
     "name": "stdout",
     "output_type": "stream",
     "text": [
      "optimal b= -1.915074411165263\n"
     ]
    }
   ],
   "source": [
    "b = []\n",
    "for i in range(n):\n",
    "    b.append(y[i] - w[0] * X[i][0] - w[1] * X[i][1])\n",
    "    # b.append(y[i] - multiply(w.value, X[i]))\n",
    "print('optimal b=', np.mean(b))"
   ]
  },
  {
   "cell_type": "code",
   "execution_count": null,
   "metadata": {},
   "outputs": [],
   "source": []
  }
 ],
 "metadata": {
  "kernelspec": {
   "display_name": "Python 3",
   "language": "python",
   "name": "python3"
  },
  "language_info": {
   "codemirror_mode": {
    "name": "ipython",
    "version": 3
   },
   "file_extension": ".py",
   "mimetype": "text/x-python",
   "name": "python",
   "nbconvert_exporter": "python",
   "pygments_lexer": "ipython3",
   "version": "3.10.11"
  }
 },
 "nbformat": 4,
 "nbformat_minor": 2
}
